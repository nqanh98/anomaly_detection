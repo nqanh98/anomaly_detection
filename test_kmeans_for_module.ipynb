{
 "cells": [
  {
   "cell_type": "code",
   "execution_count": 1,
   "metadata": {},
   "outputs": [],
   "source": [
    "%load_ext autoreload\n",
    "%autoreload 2"
   ]
  },
  {
   "cell_type": "code",
   "execution_count": 2,
   "metadata": {},
   "outputs": [],
   "source": [
    "import numpy as np\n",
    "import cv2\n",
    "import matplotlib.pyplot as plt"
   ]
  },
  {
   "cell_type": "code",
   "execution_count": 3,
   "metadata": {},
   "outputs": [],
   "source": [
    "import display\n",
    "import dataloader"
   ]
  },
  {
   "cell_type": "markdown",
   "metadata": {},
   "source": [
    "データロード"
   ]
  },
  {
   "cell_type": "code",
   "execution_count": 4,
   "metadata": {},
   "outputs": [],
   "source": [
    "thermal_img_files = dataloader.get_img_files(dir_path=\"./images/modules\",gray=False)"
   ]
  },
  {
   "cell_type": "code",
   "execution_count": 5,
   "metadata": {},
   "outputs": [
    {
     "data": {
      "text/plain": [
       "(dict, 158)"
      ]
     },
     "execution_count": 5,
     "metadata": {},
     "output_type": "execute_result"
    }
   ],
   "source": [
    "type(thermal_img_files), len(thermal_img_files)"
   ]
  },
  {
   "cell_type": "markdown",
   "metadata": {},
   "source": [
    "データの加工"
   ]
  },
  {
   "cell_type": "code",
   "execution_count": 6,
   "metadata": {},
   "outputs": [],
   "source": [
    "flatten_thermal_data = {k: v.reshape(-1,1) for k, v in thermal_img_files.items()}"
   ]
  },
  {
   "cell_type": "code",
   "execution_count": 7,
   "metadata": {},
   "outputs": [
    {
     "data": {
      "text/plain": [
       "(dict, 158)"
      ]
     },
     "execution_count": 7,
     "metadata": {},
     "output_type": "execute_result"
    }
   ],
   "source": [
    "type(flatten_thermal_data), len(flatten_thermal_data)"
   ]
  },
  {
   "cell_type": "code",
   "execution_count": 8,
   "metadata": {},
   "outputs": [],
   "source": [
    "concated_thermal_data = np.concatenate([*flatten_thermal_data.values()])"
   ]
  },
  {
   "cell_type": "code",
   "execution_count": 9,
   "metadata": {},
   "outputs": [
    {
     "data": {
      "text/plain": [
       "(numpy.ndarray, 252813)"
      ]
     },
     "execution_count": 9,
     "metadata": {},
     "output_type": "execute_result"
    }
   ],
   "source": [
    "type(concated_thermal_data), len(concated_thermal_data)"
   ]
  },
  {
   "cell_type": "markdown",
   "metadata": {},
   "source": [
    "温度分布の確認（個別）"
   ]
  },
  {
   "cell_type": "code",
   "execution_count": 10,
   "metadata": {},
   "outputs": [
    {
     "name": "stdout",
     "output_type": "stream",
     "text": [
      "./hist/hist_63.jpg\n",
      "./hist/hist_189.jpg\n",
      "./hist/hist_77.jpg\n",
      "./hist/hist_162.jpg\n",
      "./hist/hist_176.jpg\n",
      "./hist/hist_88.jpg\n",
      "./hist/hist_200.jpg\n",
      "./hist/hist_201.jpg\n",
      "./hist/hist_188.jpg\n",
      "./hist/hist_76.jpg\n"
     ]
    }
   ],
   "source": [
    "#for k, v in flatten_thermal_data.items():    \n",
    "for k in list(flatten_thermal_data.keys())[:10]:\n",
    "    v = flatten_thermal_data[k]\n",
    "    filepath = \"./hist/hist_\" + k\n",
    "    print(filepath)\n",
    "    fig = plt.figure(facecolor=\"w\")\n",
    "    ax = fig.add_subplot(1,1,1)\n",
    "    ax.hist(v,bins = 100, alpha = 0.5)\n",
    "    ax.set_title(k)\n",
    "    ax.set_xlabel('pxil value')\n",
    "    ax.set_ylabel('freq')\n",
    "    plt.savefig(filepath)    \n",
    "    #plt.show()    \n",
    "    plt.close()"
   ]
  },
  {
   "cell_type": "markdown",
   "metadata": {},
   "source": [
    "温度分布の確認（全体）"
   ]
  },
  {
   "cell_type": "code",
   "execution_count": 11,
   "metadata": {},
   "outputs": [
    {
     "data": {
      "image/png": "[encoded data removed]",
      "text/plain": [
       "<Figure size 432x288 with 1 Axes>"
      ]
     },
     "metadata": {},
     "output_type": "display_data"
    }
   ],
   "source": [
    "fig = plt.figure(facecolor=\"w\")\n",
    "ax = fig.add_subplot(1,1,1)\n",
    "ax.hist(concated_thermal_data, bins = 100, alpha = 0.5)\n",
    "ax.axvline(x = concated_thermal_data.mean(), \n",
    "           color = 'green', \n",
    "           alpha = 0.8, \n",
    "           linestyle = '--', \n",
    "           label = 'Mean')\n",
    "ax.axvline(x = concated_thermal_data.mean() - 2*concated_thermal_data.std(ddof=1), \n",
    "           color = 'orange', \n",
    "           alpha = 0.8, \n",
    "           linestyle = ':', \n",
    "           label = '2σ')\n",
    "ax.axvline(x = concated_thermal_data.mean() + 2*concated_thermal_data.std(ddof=1), \n",
    "           color = 'orange', \n",
    "           alpha = 0.8, \n",
    "           linestyle = ':')\n",
    "ax.set_title(\"Distribution of Thermal pixel values\")\n",
    "ax.set_xlabel('pxil values')\n",
    "ax.set_ylabel('freq')\n",
    "ax.legend(loc='upper right')\n",
    "plt.show()"
   ]
  },
  {
   "cell_type": "markdown",
   "metadata": {},
   "source": [
    "個別画像の分析"
   ]
  },
  {
   "cell_type": "code",
   "execution_count": 12,
   "metadata": {},
   "outputs": [],
   "source": [
    "input_file = \"images/modules/72.jpg\"\n",
    "#input_file = \"images/modules/112.jpg\"\n",
    "#input_file = \"images/modules/126.jpg\"\n",
    "#input_file = \"images/modules/130.jpg\""
   ]
  },
  {
   "cell_type": "code",
   "execution_count": 13,
   "metadata": {},
   "outputs": [],
   "source": [
    "img = cv2.imread(input_file)\n",
    "img_gray = cv2.cvtColor(img, cv2.COLOR_BGR2GRAY)"
   ]
  },
  {
   "cell_type": "code",
   "execution_count": 14,
   "metadata": {},
   "outputs": [
    {
     "data": {
      "image/png": "[encoded data removed]",
      "text/plain": [
       "<Figure size 1152x576 with 2 Axes>"
      ]
     },
     "metadata": {},
     "output_type": "display_data"
    }
   ],
   "source": [
    "fig = plt.figure(figsize=(16,8),facecolor=\"w\")\n",
    "ax1 = fig.add_subplot(2,1,1)\n",
    "ax1.imshow(img)\n",
    "ax1.set_title(\"BGR\")\n",
    "ax2 = fig.add_subplot(2,2,2)\n",
    "ax2.imshow(img_gray)\n",
    "ax2.set_title(\"Gray\")\n",
    "plt.show()"
   ]
  },
  {
   "cell_type": "code",
   "execution_count": 15,
   "metadata": {},
   "outputs": [],
   "source": [
    "#flatten = img.reshape(-1,3)\n",
    "flatten = img_gray.reshape(-1,1)"
   ]
  },
  {
   "cell_type": "code",
   "execution_count": 16,
   "metadata": {},
   "outputs": [
    {
     "name": "stdout",
     "output_type": "stream",
     "text": [
      "(624, 1)\n"
     ]
    }
   ],
   "source": [
    "print(flatten.shape)"
   ]
  },
  {
   "cell_type": "code",
   "execution_count": 17,
   "metadata": {},
   "outputs": [],
   "source": [
    "def get_KMeans_results(inputs):\n",
    "    from sklearn.cluster import KMeans\n",
    "    pred = KMeans(n_clusters=5).fit(inputs)\n",
    "    clusters = []\n",
    "    for n in range(pred.n_clusters):\n",
    "        clusters.append(np.array([data.tolist() for label, data in zip(pred.labels_,inputs) if label==n]))\n",
    "    return clusters, pred"
   ]
  },
  {
   "cell_type": "code",
   "execution_count": 18,
   "metadata": {},
   "outputs": [],
   "source": [
    "clusters, pred = get_KMeans_results(flatten)"
   ]
  },
  {
   "cell_type": "code",
   "execution_count": 19,
   "metadata": {},
   "outputs": [],
   "source": [
    "import matplotlib.pyplot as plt\n",
    "from mpl_toolkits.mplot3d import Axes3D\n",
    "import matplotlib.cm as cm"
   ]
  },
  {
   "cell_type": "code",
   "execution_count": 20,
   "metadata": {},
   "outputs": [
    {
     "data": {
      "image/png": "[encoded data removed]",
      "text/plain": [
       "<Figure size 432x432 with 1 Axes>"
      ]
     },
     "metadata": {},
     "output_type": "display_data"
    }
   ],
   "source": [
    "display.plot_2d_scatters_for_clusters(clusters, pred)\n",
    "#display.plot_3d_scatters_for_clusters(clusters, pred)"
   ]
  },
  {
   "cell_type": "code",
   "execution_count": 23,
   "metadata": {},
   "outputs": [],
   "source": [
    "centers = np.uint8(pred.cluster_centers_)\n",
    "img_clustered = centers[pred.labels_]\n",
    "img_clustered = img_clustered.reshape(img_gray.shape)"
   ]
  },
  {
   "cell_type": "code",
   "execution_count": 24,
   "metadata": {},
   "outputs": [
    {
     "data": {
      "image/png": "[encoded data removed]",
      "text/plain": [
       "<Figure size 1152x576 with 2 Axes>"
      ]
     },
     "metadata": {},
     "output_type": "display_data"
    }
   ],
   "source": [
    "fig = plt.figure(figsize=(16,8),facecolor=\"w\")\n",
    "ax1 = fig.add_subplot(2,1,1)\n",
    "ax1.imshow(img_gray)\n",
    "ax1.set_title(\"Gray\")\n",
    "ax2 = fig.add_subplot(2,2,2)\n",
    "ax2.imshow(img_clustered)\n",
    "ax2.set_title(\"Clustered\")\n",
    "plt.show()"
   ]
  }
 ],
 "metadata": {
  "kernelspec": {
   "display_name": "Python 3",
   "language": "python",
   "name": "python3"
  },
  "language_info": {
   "codemirror_mode": {
    "name": "ipython",
    "version": 3
   },
   "file_extension": ".py",
   "mimetype": "text/x-python",
   "name": "python",
   "nbconvert_exporter": "python",
   "pygments_lexer": "ipython3",
   "version": "3.8.5"
  }
 },
 "nbformat": 4,
 "nbformat_minor": 4
}
